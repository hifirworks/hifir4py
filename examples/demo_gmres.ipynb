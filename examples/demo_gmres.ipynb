{
 "cells": [
  {
   "cell_type": "markdown",
   "metadata": {},
   "source": [
    "# Demo for using `hifir4py` with built-in ``gmres_hif`` #\n",
    "In this example, we show how to use `hifir4py` HIFIR preconditioner coupling with the built-in ``gmres_hif`` solver. The example system is a saddle-point formulation of 3D Stokes equation with Taylor-Hood elements."
   ]
  },
  {
   "cell_type": "code",
   "execution_count": 1,
   "metadata": {},
   "outputs": [],
   "source": [
    "import numpy as np\n",
    "from scipy.io import loadmat\n",
    "from hifir4py import *"
   ]
  },
  {
   "cell_type": "code",
   "execution_count": 2,
   "metadata": {},
   "outputs": [],
   "source": [
    "# load the MATFILE from scipy.io\n",
    "f = loadmat(\"demo_inputs/data.mat\")\n",
    "A = f[\"A\"]\n",
    "b = f[\"b\"].reshape(-1)"
   ]
  },
  {
   "cell_type": "markdown",
   "metadata": {},
   "source": [
    "Let's show some basic information of the system, including shape, nnz, and leading block symmetry"
   ]
  },
  {
   "cell_type": "code",
   "execution_count": 3,
   "metadata": {},
   "outputs": [
    {
     "output_type": "stream",
     "name": "stdout",
     "text": [
      "The system shape is (2990, 2990), where the nnz is 44632\n"
     ]
    }
   ],
   "source": [
    "# A is scipy.sparse.csr_matrix\n",
    "print(\"The system shape is {}, where the nnz is {}\".format(A.shape, A.nnz))"
   ]
  },
  {
   "cell_type": "markdown",
   "metadata": {},
   "source": [
    "Now, let's build the preconditioenr $\\boldsymbol{M}$ with more aggressive options, i.e. `droptol` for L and U factors is 1e-2, `condest` for L, U, and D is 5, and $\\alpha$ for L and U is 3."
   ]
  },
  {
   "cell_type": "code",
   "execution_count": 4,
   "metadata": {},
   "outputs": [
    {
     "output_type": "stream",
     "name": "stdout",
     "text": [
      "\n=======================================================================\n|           HIF: Hybrid Incomplete Factorization                      |\n|                                                                     |\n| HIF is a package for computing hybrid incomplete factorization      |\n| with near linear time complexity.                                   |\n-----------------------------------------------------------------------\n\n > Package information:\n\n\t* Copyright (C) 2019--2021 NumGeom Group at Stony Brook University\n\t* Version: 0.1.0\n\n=======================================================================\n\nParams (control parameters) are:\n\ntau_L                         0.010000\ntau_U                         0.010000\nkappa_d                       5.000000\nkappa                         5.000000\nalpha_L                       3.000000\nalpha_U                       3.000000\nrho                           0.500000\nc_d                           10.000000\nc_h                           2.000000\nN                             -1\nverbose                       info\nrf_par                        1\nreorder                       Off\nspd                           0\ncheck                         yes\npre_scale                     0\nsymm_pre_lvls                 1\nthreads                       0\nfat_schur_1st                 0\nrrqr_cond                     0.000000\npivot                         auto\ngamma                         1.000000\nbeta                          1000.000000\nis_symm                       0\nno_pre                        0\n\nperform input matrix validity checking\n\nenter level 1 (asymmetric).\n\nperforming symm preprocessing with leading block size  2990... \npreprocessing done with leading block size 2826...\ntime: 0.00906654s\npreparing data variables...\nstart Crout update...\nfinish Crout update...\n\ttotal deferrals=1\n\tleading block size in=2990\n\tleading block size out=2825\n\tdiff=165\n\tdiag deferrals=0\n\tinv-norm deferrals=1\n\tdrop ut=113670\n\tspace drop ut=22023\n\tdrop l=113670\n\tspace drop l=22023\n\tmin |kappa_u|=1\n\tmax |kappa_u|=4.77626\n\tmin |kappa_l|=1\n\tmax |kappa_l|=4.77626\n\tmax |d|=1\ntime: 0.0268468s\ncomputing Schur complement and assembling Prec...\n\t=================================\n\tthe Schur complement has good size\n\t=================================\nsplitting LB and freeing L took 0.00064727s.\nsplitting UB and freeing U took 0.000670639s.\napplying dropping on L_E and U_F with alpha_{L,U}=3,3...\nnnz(L_E)=53031/30145, nnz(U_F)=53031/30145, time: 0.00124836s...\nusing 4 for Schur computation...\npure Schur computation time: 0.00551378s...\nnnz(S_C)=16953, nnz(L/L_B)=85269/32238, nnz(U/U_B)=85269/32238\ndense_thres{1,2}=61032/2000...\nconverted Schur complement (S) to dense for last level...\nfactorizing dense level by RRQR with cond-thres 2.72713e+10...\nsuccessfully factorized the dense component...\ntime: 0.0142338s\n\nfinish level 1.\n\ninput nnz(A)=44632, nnz(precs)=114848, ratio=2.57322\n\nmultilevel precs building time (overall) is 0.0526003s\n"
     ]
    }
   ],
   "source": [
    "M = HIF()\n",
    "params = Params()\n",
    "params.tau = 0.01\n",
    "params.kappa = 5.0\n",
    "params.alpha = 3.0\n",
    "M.factorize(A, params=params)"
   ]
  },
  {
   "cell_type": "markdown",
   "metadata": {},
   "source": [
    "With the preconditioenr successfully been built, let's print out some basic information"
   ]
  },
  {
   "cell_type": "code",
   "execution_count": 5,
   "metadata": {},
   "outputs": [
    {
     "output_type": "stream",
     "name": "stdout",
     "text": [
      "M levels are 2, with nnz 114848\n"
     ]
    }
   ],
   "source": [
    "print(\"M levels are {}, with nnz {}\".format(M.levels, M.nnz))"
   ]
  },
  {
   "cell_type": "markdown",
   "metadata": {},
   "source": [
    "Now, we solve with the built-in flexible GMRES solver in SciPy. Notice that the GMRES in SciPy is left-preconditioned, which is not recommended."
   ]
  },
  {
   "cell_type": "code",
   "execution_count": 6,
   "metadata": {},
   "outputs": [
    {
     "output_type": "stream",
     "name": "stdout",
     "text": [
      "Preconditioned provided as input.\n",
      "Starting GMRES iterations...\n",
      "Computed solution in 3 iterations and 0.07072s.\n"
     ]
    }
   ],
   "source": [
    "\n",
    "x, flag, stats = ksp.gmres_hif(A, b, M=M)"
   ]
  },
  {
   "cell_type": "code",
   "execution_count": 7,
   "metadata": {},
   "outputs": [
    {
     "output_type": "stream",
     "name": "stdout",
     "text": [
      "solver done, flag=0, res=8.254808859114319e-07\n"
     ]
    }
   ],
   "source": [
    "print(\"solver done, flag={}, res={}\".format(flag, np.linalg.norm(b-A.dot(x))/np.linalg.norm(b)))"
   ]
  }
 ],
 "metadata": {
  "kernelspec": {
   "name": "python3",
   "display_name": "Python 3.7.5 64-bit"
  },
  "language_info": {
   "codemirror_mode": {
    "name": "ipython",
    "version": 3
   },
   "file_extension": ".py",
   "mimetype": "text/x-python",
   "name": "python",
   "nbconvert_exporter": "python",
   "pygments_lexer": "ipython3",
   "version": "3.7.5"
  },
  "latex_envs": {
   "LaTeX_envs_menu_present": true,
   "autoclose": false,
   "autocomplete": true,
   "bibliofile": "biblio.bib",
   "cite_by": "apalike",
   "current_citInitial": 1,
   "eqLabelWithNumbers": true,
   "eqNumInitial": 1,
   "hotkeys": {
    "equation": "Ctrl-E",
    "itemize": "Ctrl-I"
   },
   "labels_anchors": false,
   "latex_user_defs": false,
   "report_style_numbering": false,
   "user_envs_cfg": false
  },
  "interpreter": {
   "hash": "fd69f43f58546b570e94fd7eba7b65e6bcc7a5bbc4eab0408017d18902915d69"
  }
 },
 "nbformat": 4,
 "nbformat_minor": 2
}