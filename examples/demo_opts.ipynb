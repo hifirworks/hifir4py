{
 "cells": [
  {
   "cell_type": "markdown",
   "metadata": {},
   "source": [
    "# Demo for using `hilucsi4py` with user `Options` #\n",
    "In this example, we show how to use `hilucs4py` MILU preconditioner coupling with the built-in FGMRES solver.. The example system is a saddle-point formulation of 3D Stokes equation with Taylor-Hood elements."
   ]
  },
  {
   "cell_type": "code",
   "execution_count": 1,
   "metadata": {},
   "outputs": [],
   "source": [
    "from scipy.io import loadmat\n",
    "from hilucsi4py import *\n",
    "import numpy as np"
   ]
  },
  {
   "cell_type": "markdown",
   "metadata": {},
   "source": [
    "The matrix is stored by the HILUCSI native binary format that is leading symmetric block aware. It's worht noting that. The following code shows how to load the matrix."
   ]
  },
  {
   "cell_type": "code",
   "execution_count": 2,
   "metadata": {},
   "outputs": [],
   "source": [
    "# load the MATFILE from scipy.io\n",
    "f = loadmat('demo_inputs/matlab.mat')\n",
    "A = f['A']\n",
    "b = f['b'].reshape(-1)"
   ]
  },
  {
   "cell_type": "markdown",
   "metadata": {},
   "source": [
    "Let's show some basic information of the system, including shape, nnz, and leading block symmetry"
   ]
  },
  {
   "cell_type": "code",
   "execution_count": 3,
   "metadata": {},
   "outputs": [
    {
     "name": "stdout",
     "output_type": "stream",
     "text": [
      "The system shape is (2990, 2990), where the nnz is 44632\n"
     ]
    }
   ],
   "source": [
    "# A is scipy.sparse.csr_matrix\n",
    "print('The system shape is {}, where the nnz is {}'.format(A.shape, A.nnz))"
   ]
  },
  {
   "cell_type": "markdown",
   "metadata": {},
   "source": [
    "Now, let's build the preconditioenr $\\boldsymbol{M}$ with more aggressive options, i.e. `droptol` for L and U factors is 1e-2, `condest` for L, U, and D is 5, and $\\alpha$ for L and U is 3."
   ]
  },
  {
   "cell_type": "code",
   "execution_count": 4,
   "metadata": {},
   "outputs": [
    {
     "name": "stdout",
     "output_type": "stream",
     "text": [
      "\n",
      "=======================================================================\n",
      "|    Hierarchical ILU Crout with Scalability and Inverse Thresholds   |\n",
      "|                                                                     |\n",
      "| HILUCSI is a package for computing multilevel incomplete LU factor- |\n",
      "| ization with nearly linear time complexity. In addition, HILUCSI    |\n",
      "| can also be very robust.                                            |\n",
      "-----------------------------------------------------------------------\n",
      "\n",
      " Package information:\n",
      "\n",
      "\t\tCopyright (C) The HILUCSI AUTHORS\n",
      "\t\tVersion: 1.0.0\n",
      "\t\tBuilt on: 20:05:09, Jul 15 2019\n",
      "\n",
      "=======================================================================\n",
      "\n",
      "Options (control parameters) are:\n",
      "\n",
      "tau_L                         0.010000\n",
      "tau_U                         0.010000\n",
      "tau_d                         5.000000\n",
      "tau_kappa                     5.000000\n",
      "alpha_L                       3\n",
      "alpha_U                       3\n",
      "rho                           0.500000\n",
      "c_d                           10.000000\n",
      "c_h                           2.000000\n",
      "N                             -1\n",
      "verbose                       info\n",
      "rf_par                        1\n",
      "reorder                       Auto\n",
      "saddle                        1\n",
      "pre_reorder                   Off\n",
      "pre_reorder_lvl1              1\n",
      "matching                      Auto\n",
      "pre_scale                     0\n",
      "symm_pre_lvls                 1\n",
      "\n",
      "perform input matrix validity checking\n",
      "\n",
      "enter level 1 (asymmetric).\n",
      "\n",
      "performing symm preprocessing with leading block size 2990...\n",
      "preprocessing done with leading block size 2826...\n",
      "time: 0.00336038s\n",
      "preparing data variables...\n",
      "start Crout update...\n",
      "finish Crout update...\n",
      "\ttotal deferrals=9\n",
      "\tleading block size in=2826\n",
      "\tleading block size out=2817\n",
      "\tdiff=9\n",
      "\tdiag deferrals=0\n",
      "\tinv-norm deferrals=9\n",
      "\tdrop ut=47645\n",
      "\tspace drop ut=7337\n",
      "\tdrop l=47645\n",
      "\tspace drop l=7337\n",
      "\tmin |kappa_u|=1\n",
      "\tmax |kappa_u|=4.98881\n",
      "\tmin |kappa_l|=1\n",
      "\tmax |kappa_l|=4.98881\n",
      "\tmax |d|=1\n",
      "time: 0.0120175s\n",
      "computing Schur complement and assembling Prec...\n",
      "applying dropping on L_E and U_F with alpha_{L,U}=3,3...\n",
      "nnz(L_E)=51977/29167, nnz(U_F)=51977/29167...\n",
      "nnz(S_C)=18595, nnz(L/L_B)=70610/18633, nnz(U/U_B)=70610/18633\n",
      "dense_thres{1,2}=63168/1500...\n",
      "converted Schur complement (S) to dense for last level...\n",
      "successfully factorized the dense component...\n",
      "time: 0.0102635s\n",
      "\n",
      "finish level 1.\n",
      "\n",
      "input nnz(A)=44632, nnz(precs)=90664, ratio=2.03137\n",
      "\n",
      "multilevel precs building time (overall) is 0.0263007s\n"
     ]
    }
   ],
   "source": [
    "M = HILUCSI()\n",
    "opts = Options()\n",
    "opts['tau_L'] = opts['tau_U'] = 0.01\n",
    "opts['tau_kappa'] = opts['tau_d'] = 5.0\n",
    "opts['alpha_L'] = opts['alpha_U'] = 3\n",
    "M.factorize(A, opts=opts)"
   ]
  },
  {
   "cell_type": "markdown",
   "metadata": {},
   "source": [
    "With the preconditioenr successfully been built, let's print out some basic information"
   ]
  },
  {
   "cell_type": "code",
   "execution_count": 6,
   "metadata": {},
   "outputs": [
    {
     "name": "stdout",
     "output_type": "stream",
     "text": [
      "M levels are 2, with nnz 90664\n"
     ]
    }
   ],
   "source": [
    "print('M levels are {}, with nnz {}'.format(M.levels, M.nnz))"
   ]
  },
  {
   "cell_type": "markdown",
   "metadata": {},
   "source": [
    "Now, we solve with the built-in flexible GMRES solver, with default configurations, i.e. restart is 30, relative convergence tolerance is 1e-6, and maximum allowed iterations are 500."
   ]
  },
  {
   "cell_type": "code",
   "execution_count": 7,
   "metadata": {},
   "outputs": [],
   "source": [
    "solver = FGMRES(M)"
   ]
  },
  {
   "cell_type": "code",
   "execution_count": 8,
   "metadata": {},
   "outputs": [
    {
     "name": "stdout",
     "output_type": "stream",
     "text": [
      "- FGMRES -\n",
      "rtol=1e-06\n",
      "restart=30\n",
      "maxiter=500\n",
      "kernel: tradition\n",
      "init-guess: no\n",
      "trunc: no\n",
      "\n",
      "Calling traditional GMRES kernel...\n",
      "Enter outer iteration 1...\n",
      "  At iteration 1 (inner:1), relative residual is 0.000216346.\n",
      "  At iteration 2 (inner:1), relative residual is 5.54575e-06.\n",
      "  At iteration 3 (inner:1), relative residual is 4.62893e-07.\n"
     ]
    }
   ],
   "source": [
    "x, iters = solver.solve(A, b)"
   ]
  },
  {
   "cell_type": "code",
   "execution_count": 9,
   "metadata": {},
   "outputs": [
    {
     "name": "stdout",
     "output_type": "stream",
     "text": [
      "solver done, with 3 iterations and residule is 4.6289339210757907e-07\n"
     ]
    }
   ],
   "source": [
    "print('solver done, with {} iterations and residule is {}'.format(iters, solver.resids[-1]))"
   ]
  }
 ],
 "metadata": {
  "kernelspec": {
   "display_name": "Python 3",
   "language": "python",
   "name": "python3"
  },
  "language_info": {
   "codemirror_mode": {
    "name": "ipython",
    "version": 3
   },
   "file_extension": ".py",
   "mimetype": "text/x-python",
   "name": "python",
   "nbconvert_exporter": "python",
   "pygments_lexer": "ipython3",
   "version": "3.6.8"
  },
  "latex_envs": {
   "LaTeX_envs_menu_present": true,
   "autoclose": false,
   "autocomplete": true,
   "bibliofile": "biblio.bib",
   "cite_by": "apalike",
   "current_citInitial": 1,
   "eqLabelWithNumbers": true,
   "eqNumInitial": 1,
   "hotkeys": {
    "equation": "Ctrl-E",
    "itemize": "Ctrl-I"
   },
   "labels_anchors": false,
   "latex_user_defs": false,
   "report_style_numbering": false,
   "user_envs_cfg": false
  }
 },
 "nbformat": 4,
 "nbformat_minor": 2
}
