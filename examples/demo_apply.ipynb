{
 "cells": [
  {
   "cell_type": "markdown",
   "metadata": {},
   "source": [
    "# Demo for using `hifir4py` #\n",
    "In this example, we show how to use `hifir4py` HIFIR preconditioner in its multilevel triangular solve and matrix-vector multiplication, which are the core operations in applying a preconditioner."
   ]
  },
  {
   "cell_type": "code",
   "execution_count": 1,
   "metadata": {},
   "outputs": [],
   "source": [
    "import numpy as np\n",
    "from scipy.io import loadmat\n",
    "from hifir4py import *"
   ]
  },
  {
   "cell_type": "code",
   "execution_count": 2,
   "metadata": {},
   "outputs": [],
   "source": [
    "# load the MATFILE from scipy.io\n",
    "f = loadmat(\"demo_inputs/data.mat\")\n",
    "A = f[\"A\"]\n",
    "b = f[\"b\"].reshape(-1)"
   ]
  },
  {
   "cell_type": "markdown",
   "metadata": {},
   "source": [
    "Let's show some basic information of the system, including shape, nnz, and leading block symmetry"
   ]
  },
  {
   "cell_type": "code",
   "execution_count": 3,
   "metadata": {},
   "outputs": [
    {
     "name": "stdout",
     "output_type": "stream",
     "text": [
      "The system shape is (2990, 2990), where the nnz is 44632\n"
     ]
    }
   ],
   "source": [
    "# A is scipy.sparse.csr_matrix\n",
    "print(\"The system shape is {}, where the nnz is {}\".format(A.shape, A.nnz))"
   ]
  },
  {
   "cell_type": "markdown",
   "metadata": {},
   "source": [
    "## Factorize HIF ##"
   ]
  },
  {
   "cell_type": "markdown",
   "metadata": {},
   "source": [
    "Now, let's build the preconditioenr $\\boldsymbol{M}$ with more aggressive options, i.e. `droptol` for L and U factors is 1e-2, `condest` for L, U, and D is 5, and $\\alpha$ for L and U is 3."
   ]
  },
  {
   "cell_type": "code",
   "execution_count": 5,
   "metadata": {},
   "outputs": [
    {
     "name": "stdout",
     "output_type": "stream",
     "text": [
      "\n",
      "=======================================================================\n",
      "|           HIF: Hybrid Incomplete Factorization                      |\n",
      "|                                                                     |\n",
      "| HIF is a package for computing hybrid incomplete factorization      |\n",
      "| with near linear time complexity.                                   |\n",
      "-----------------------------------------------------------------------\n",
      "\n",
      " > Package information:\n",
      "\n",
      "\t* Copyright (C) 2019--2021 NumGeom Group at Stony Brook University\n",
      "\t* Version: 0.1.0\n",
      "\n",
      "=======================================================================\n",
      "\n",
      "Params (control parameters) are:\n",
      "\n",
      "tau_L                         0.010000\n",
      "tau_U                         0.010000\n",
      "kappa_d                       5.000000\n",
      "kappa                         5.000000\n",
      "alpha_L                       3.000000\n",
      "alpha_U                       3.000000\n",
      "rho                           0.500000\n",
      "c_d                           10.000000\n",
      "c_h                           2.000000\n",
      "N                             -1\n",
      "verbose                       info\n",
      "rf_par                        1\n",
      "reorder                       Off\n",
      "spd                           0\n",
      "check                         yes\n",
      "pre_scale                     0\n",
      "symm_pre_lvls                 1\n",
      "threads                       0\n",
      "fat_schur_1st                 0\n",
      "rrqr_cond                     0.000000\n",
      "pivot                         auto\n",
      "gamma                         1.000000\n",
      "beta                          1000.000000\n",
      "is_symm                       0\n",
      "no_pre                        0\n",
      "\n",
      "perform input matrix validity checking\n",
      "\n",
      "enter level 1 (asymmetric).\n",
      "\n",
      "performing symm preprocessing with leading block size  2990... \n",
      "preprocessing done with leading block size 2826...\n",
      "time: 0.00360131s\n",
      "preparing data variables...\n",
      "start Crout update...\n",
      "finish Crout update...\n",
      "\ttotal deferrals=1\n",
      "\tleading block size in=2990\n",
      "\tleading block size out=2825\n",
      "\tdiff=165\n",
      "\tdiag deferrals=0\n",
      "\tinv-norm deferrals=1\n",
      "\tdrop ut=113670\n",
      "\tspace drop ut=22023\n",
      "\tdrop l=113670\n",
      "\tspace drop l=22023\n",
      "\tmin |kappa_u|=1\n",
      "\tmax |kappa_u|=4.77626\n",
      "\tmin |kappa_l|=1\n",
      "\tmax |kappa_l|=4.77626\n",
      "\tmax |d|=1\n",
      "time: 0.0237231s\n",
      "computing Schur complement and assembling Prec...\n",
      "\t=================================\n",
      "\tthe Schur complement has good size\n",
      "\t=================================\n",
      "splitting LB and freeing L took 0.000720598s.\n",
      "splitting UB and freeing U took 0.00078849s.\n",
      "applying dropping on L_E and U_F with alpha_{L,U}=3,3...\n",
      "nnz(L_E)=53031/30145, nnz(U_F)=53031/30145, time: 0.00131117s...\n",
      "using 4 for Schur computation...\n",
      "pure Schur computation time: 0.00542072s...\n",
      "nnz(S_C)=16953, nnz(L/L_B)=85269/32238, nnz(U/U_B)=85269/32238\n",
      "dense_thres{1,2}=61032/2000...\n",
      "converted Schur complement (S) to dense for last level...\n",
      "factorizing dense level by RRQR with cond-thres 2.72713e+10...\n",
      "successfully factorized the dense component...\n",
      "time: 0.0106012s\n",
      "\n",
      "finish level 1.\n",
      "\n",
      "input nnz(A)=44632, nnz(precs)=114848, ratio=2.57322\n",
      "\n",
      "multilevel precs building time (overall) is 0.0398237s\n"
     ]
    }
   ],
   "source": [
    "M = HIF(\n",
    "    A,\n",
    "    tau_L=0.01,\n",
    "    tau_U=0.01,\n",
    "    kappa=5.0,\n",
    "    kappa_d=5.0,\n",
    "    alpha_L=3.0,\n",
    "    alpha_U=3.0,\n",
    ")"
   ]
  },
  {
   "cell_type": "markdown",
   "metadata": {},
   "source": [
    "With the preconditioenr successfully been built, let's print out some basic information"
   ]
  },
  {
   "cell_type": "code",
   "execution_count": 6,
   "metadata": {},
   "outputs": [
    {
     "name": "stdout",
     "output_type": "stream",
     "text": [
      "M levels are 2, with nnz 114848\n"
     ]
    }
   ],
   "source": [
    "print(\"M levels are {}, with nnz {}\".format(M.levels, M.nnz))"
   ]
  },
  {
   "cell_type": "markdown",
   "metadata": {},
   "source": [
    "Alternatively, one can use the following codes:\n",
    "\n",
    "```python\n",
    "M = HIF()\n",
    "params=Params()\n",
    "params.tau = 1e-2  # equiv. to params[\"tau_L\"]=params[\"tau_U\"]=1e-2\n",
    "params.kappa = 5.0\n",
    "params.alpha = 3.0\n",
    "M.factorize(A, params=params)\n",
    "```\n",
    "or\n",
    "```python\n",
    "M = HIF()\n",
    "M.factorize(A,\n",
    "    tau_L=0.01,\n",
    "    tau_U=0.01,\n",
    "    kappa=5.0,\n",
    "    kappa_d=5.0,\n",
    "    alpha_L=3.0,\n",
    "    alpha_U=3.0,\n",
    ")\n",
    "```"
   ]
  },
  {
   "cell_type": "markdown",
   "metadata": {},
   "source": [
    "## Apply HIF ##\n",
    "We now consider applying `M` in triangular solve and matrix-vector multiplication two modes."
   ]
  },
  {
   "cell_type": "code",
   "execution_count": 8,
   "metadata": {},
   "outputs": [
    {
     "name": "stdout",
     "output_type": "stream",
     "text": [
      "norm2(err)/norm2(b) = 1.439076582138997e-17\n"
     ]
    }
   ],
   "source": [
    "x = M.apply(b)\n",
    "err = M.apply(x, op=\"M\") - b\n",
    "print(\"norm2(err)/norm2(b) =\", np.linalg.norm(err)/np.linalg.norm(b))"
   ]
  },
  {
   "cell_type": "code",
   "execution_count": 9,
   "metadata": {},
   "outputs": [
    {
     "name": "stdout",
     "output_type": "stream",
     "text": [
      "norm2(err)/norm2(b) = 1.4514835137900503e-17\n"
     ]
    }
   ],
   "source": [
    "# Tranpose\n",
    "x = M.apply(b, op=\"SH\")\n",
    "err = M.apply(x, op=\"MH\") - b\n",
    "print(\"norm2(err)/norm2(b) =\", np.linalg.norm(err)/np.linalg.norm(b))"
   ]
  }
 ],
 "metadata": {
  "kernelspec": {
   "display_name": "Python 3",
   "language": "python",
   "name": "python3"
  },
  "language_info": {
   "codemirror_mode": {
    "name": "ipython",
    "version": 3
   },
   "file_extension": ".py",
   "mimetype": "text/x-python",
   "name": "python",
   "nbconvert_exporter": "python",
   "pygments_lexer": "ipython3",
   "version": "3.6.9"
  },
  "latex_envs": {
   "LaTeX_envs_menu_present": true,
   "autoclose": false,
   "autocomplete": true,
   "bibliofile": "biblio.bib",
   "cite_by": "apalike",
   "current_citInitial": 1,
   "eqLabelWithNumbers": true,
   "eqNumInitial": 1,
   "hotkeys": {
    "equation": "Ctrl-E",
    "itemize": "Ctrl-I"
   },
   "labels_anchors": false,
   "latex_user_defs": false,
   "report_style_numbering": false,
   "user_envs_cfg": false
  }
 },
 "nbformat": 4,
 "nbformat_minor": 2
}
