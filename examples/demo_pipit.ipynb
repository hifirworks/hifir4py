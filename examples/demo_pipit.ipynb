{
 "cells": [
  {
   "cell_type": "markdown",
   "metadata": {},
   "source": [
    "# Demo for using `hifir4py` with its PIPIT solver #\n",
    "In this example, we show how to use `hifir4py` HIFIR-preconditioned PIPIT solver for seeking the pseudoinverse solution of a linear elasticity system with pure traction boundary conditions discretized by FEM. Note that this system has six-dimensional nullspace."
   ]
  },
  {
   "cell_type": "code",
   "execution_count": 2,
   "metadata": {},
   "outputs": [],
   "source": [
    "import numpy as np\n",
    "from scipy.io import loadmat\n",
    "from hifir4py import *"
   ]
  },
  {
   "cell_type": "code",
   "execution_count": 3,
   "metadata": {},
   "outputs": [],
   "source": [
    "# load the MATFILE from scipy.io\n",
    "f = loadmat(\"demo_inputs/LE_4.mat\")\n",
    "A = f[\"A\"]\n",
    "b = f[\"b\"].reshape(-1)"
   ]
  },
  {
   "cell_type": "markdown",
   "metadata": {},
   "source": [
    "Let's show some basic information of the system, including shape, nnz, and leading block symmetry"
   ]
  },
  {
   "cell_type": "code",
   "execution_count": 4,
   "metadata": {},
   "outputs": [
    {
     "output_type": "stream",
     "name": "stdout",
     "text": [
      "The system shape is (2295, 2295), where the nnz is 83997\n"
     ]
    }
   ],
   "source": [
    "# A is scipy.sparse.csr_matrix\n",
    "print(\"The system shape is {}, where the nnz is {}\".format(A.shape, A.nnz))"
   ]
  },
  {
   "source": [
    "Now, we directly call ``pipit_hifir`` to seek for the pseudoinverse solution with default settings, i.e., default parameters in HIF, $\\text{rtol}=10^{-12}$ for the null-space residual tolerance, and $\\text{rtol}=10^{-6}$ for the least-squares solution (by HIF-preconditioned GMRES) relative residual tolerance; the ``restart`` and ``maxit`` are set to be 30 and 500, respectively."
   ],
   "cell_type": "markdown",
   "metadata": {}
  },
  {
   "cell_type": "code",
   "execution_count": 5,
   "metadata": {},
   "outputs": [
    {
     "output_type": "stream",
     "name": "stdout",
     "text": [
      "HIF factorization finished in 0.1743s.\n",
      "\n",
      "Starting computing left nullspace...\n",
      "Finished left nullspace computation with total 46 GMRES iterations\n",
      "and total 75 inner refinements in 0.463s.\n",
      "\n",
      "Starting GMRES for least-squares solution...\n",
      "Preconditioned provided as input.\n",
      "Starting GMRES iterations...\n",
      "Computed solution in 7 iterations and 0.02111s.\n",
      "\n",
      "System is numerically symmetric; let vs=us.\n"
     ]
    }
   ],
   "source": [
    "x, ns, flag, stats = ksp.pipit_hifir(A, b, 6)  # 6 is the null-space dimension"
   ]
  },
  {
   "source": [
    "We know analyze the accuracy of the null-space components. Note that since this system is symmetric (thus range-symmetric)."
   ],
   "cell_type": "markdown",
   "metadata": {}
  },
  {
   "cell_type": "code",
   "execution_count": 6,
   "metadata": {},
   "outputs": [
    {
     "output_type": "stream",
     "name": "stdout",
     "text": [
      "relative residual of the six-dimensional nullspace are: [6.44680278e-13 7.25437491e-13 2.64731149e-14 6.97660024e-13\n 6.79220534e-13 1.09590900e-14]\n"
     ]
    }
   ],
   "source": [
    "from scipy.sparse.linalg import norm as spnorm\n",
    "\n",
    "vs = ns[\"vs\"]\n",
    "av = A.dot(vs)\n",
    "av_res = np.asarray([np.linalg.norm(av[i]) for i in range(6)]) / spnorm(A)\n",
    "print(\"relative residual of the six-dimensional nullspace are:\", av_res)"
   ]
  }
 ],
 "metadata": {
  "kernelspec": {
   "name": "python3",
   "display_name": "Python 3.7.5 64-bit"
  },
  "language_info": {
   "codemirror_mode": {
    "name": "ipython",
    "version": 3
   },
   "file_extension": ".py",
   "mimetype": "text/x-python",
   "name": "python",
   "nbconvert_exporter": "python",
   "pygments_lexer": "ipython3",
   "version": "3.7.5"
  },
  "latex_envs": {
   "LaTeX_envs_menu_present": true,
   "autoclose": false,
   "autocomplete": true,
   "bibliofile": "biblio.bib",
   "cite_by": "apalike",
   "current_citInitial": 1,
   "eqLabelWithNumbers": true,
   "eqNumInitial": 1,
   "hotkeys": {
    "equation": "Ctrl-E",
    "itemize": "Ctrl-I"
   },
   "labels_anchors": false,
   "latex_user_defs": false,
   "report_style_numbering": false,
   "user_envs_cfg": false
  },
  "interpreter": {
   "hash": "fd69f43f58546b570e94fd7eba7b65e6bcc7a5bbc4eab0408017d18902915d69"
  }
 },
 "nbformat": 4,
 "nbformat_minor": 2
}