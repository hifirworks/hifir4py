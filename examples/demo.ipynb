{
 "cells": [
  {
   "cell_type": "markdown",
   "metadata": {},
   "source": [
    "# Demo for using `hifir4py` #\n",
    "In this example, we show how to use `hifir4py` HIFIR preconditioner coupling with the built-in GMRES solver.. The example system is a saddle-point formulation of 3D Stokes equation with Taylor-Hood elements."
   ]
  },
  {
   "cell_type": "code",
   "execution_count": 1,
   "metadata": {},
   "outputs": [],
   "source": [
    "from hifir4py import *\n",
    "import numpy as np"
   ]
  },
  {
   "cell_type": "markdown",
   "metadata": {},
   "source": [
    "The matrix is stored by the HIFIR native binary format that is leading symmetric block aware. It's worht noting that. The following code shows how to load the matrix."
   ]
  },
  {
   "cell_type": "code",
   "execution_count": 2,
   "metadata": {},
   "outputs": [],
   "source": [
    "# load matrix and leading block size m\n",
    "rowptr, colind, vals, shape, _ = read_hifir(\"demo_inputs/A.hilucsi\")"
   ]
  },
  {
   "cell_type": "markdown",
   "metadata": {},
   "source": [
    "Let's show some basic information of the system, including shape, nnz, and leading block symmetry"
   ]
  },
  {
   "cell_type": "code",
   "execution_count": 3,
   "metadata": {},
   "outputs": [
    {
     "name": "stdout",
     "output_type": "stream",
     "text": [
      "The system shape is 44632, where the nnz is (2990, 2990)\n"
     ]
    }
   ],
   "source": [
    "# A is scipy.sparse.csr_matrix\n",
    "print(\"The system shape is {}, where the nnz is {}\".format(rowptr[-1], shape))"
   ]
  },
  {
   "cell_type": "markdown",
   "metadata": {},
   "source": [
    "The rhs vector can be directly loaded from `numpy` ASCII routine"
   ]
  },
  {
   "cell_type": "code",
   "execution_count": 4,
   "metadata": {},
   "outputs": [],
   "source": [
    "b = np.loadtxt('demo_inputs/b.txt')"
   ]
  },
  {
   "cell_type": "code",
   "execution_count": 5,
   "metadata": {},
   "outputs": [],
   "source": [
    "assert shape[0] == len(b)"
   ]
  },
  {
   "cell_type": "markdown",
   "metadata": {},
   "source": [
    "Now, let's build the preconditioenr $\\boldsymbol{M}$ with default configurations."
   ]
  },
  {
   "cell_type": "code",
   "execution_count": 6,
   "metadata": {},
   "outputs": [
    {
     "name": "stdout",
     "output_type": "stream",
     "text": [
      "\n",
      "=======================================================================\n",
      "|           Hybrid (Hierarchical) Incomplete Factorizations           |\n",
      "|                                                                     |\n",
      "| HIF is a package for computing hybrid (hierarchical) incomplete fa- |\n",
      "| ctorizations with nearly linear time complexity.                    |\n",
      "-----------------------------------------------------------------------\n",
      "\n",
      " > Package information:\n",
      "\n",
      "\t\t* Copyright (C) The HIF AUTHORS\n",
      "\t\t* Version: 1.0.0\n",
      "\t\t* Built on: 11:33:49, Jun  7 2021\n",
      "\n",
      "=======================================================================\n",
      "\n",
      "Params (control parameters) are:\n",
      "\n",
      "tau_L                         0.000100\n",
      "tau_U                         0.000100\n",
      "kappa_d                       3.000000\n",
      "kappa                         3.000000\n",
      "alpha_L                       10.000000\n",
      "alpha_U                       10.000000\n",
      "rho                           0.500000\n",
      "c_d                           10.000000\n",
      "c_h                           2.000000\n",
      "N                             -1\n",
      "verbose                       info\n",
      "rf_par                        1\n",
      "reorder                       Auto\n",
      "spd                           0\n",
      "check                         yes\n",
      "pre_scale                     0\n",
      "symm_pre_lvls                 1\n",
      "threads                       0\n",
      "mumps_blr                     1\n",
      "fat_schur_1st                 0\n",
      "rrqr_cond                     0.000000\n",
      "pivot                         off\n",
      "gamma                         1.000000\n",
      "beta                          1000.000000\n",
      "is_symm                       0\n",
      "no_pre                        0\n",
      "\n",
      "perform input matrix validity checking\n",
      "\n",
      "enter level 1 (asymmetric).\n",
      "\n",
      "performing symm preprocessing with leading block size  2990... \n",
      "preprocessing done with leading block size 2826...\n",
      "time: 0.00519876s\n",
      "preparing data variables...\n",
      "start Crout update...\n",
      "finish Crout update...\n",
      "\ttotal deferrals=80\n",
      "\tleading block size in=2990\n",
      "\tleading block size out=2746\n",
      "\tdiff=244\n",
      "\tdiag deferrals=14\n",
      "\tinv-norm deferrals=66\n",
      "\tdrop ut=35562\n",
      "\tspace drop ut=60\n",
      "\tdrop l=35562\n",
      "\tspace drop l=60\n",
      "\tmin |kappa_u|=1\n",
      "\tmax |kappa_u|=2.9844\n",
      "\tmin |kappa_l|=1\n",
      "\tmax |kappa_l|=2.9844\n",
      "\tmax |d|=1\n",
      "time: 0.0234758s\n",
      "computing Schur complement and assembling Prec...\n",
      "\t=================================\n",
      "\tthe Schur compl. has good size\n",
      "\t=================================\n",
      "splitting LB and freeing L took 0.00106249s.\n",
      "splitting UB and freeing U took 0.00108128s.\n",
      "applying dropping on L_E and U_F with alpha_{L,U}=10,10...\n",
      "nnz(L_E)=100643/78770, nnz(U_F)=100643/78770, time: 0.000971111s...\n",
      "using 4 for Schur computation...\n",
      "pure Schur computation time: 0.0108929s...\n",
      "nnz(S_C)=49836, nnz(L/L_B)=128738/28095, nnz(U/U_B)=128738/28095\n",
      "dense_thres{1,2}=265540/1500...\n",
      "converted Schur complement (S) to dense for last level...\n",
      "factorizing dense level by RRQR with cond-thres 2.72713e+10...\n",
      "successfully factorized the dense component...\n",
      "time: 0.0179087s\n",
      "\n",
      "finish level 1.\n",
      "\n",
      "input nnz(A)=44632, nnz(precs)=141018, ratio=3.15957\n",
      "\n",
      "multilevel precs building time (overall) is 0.0493023s\n"
     ]
    }
   ],
   "source": [
    "M = HIF()\n",
    "M.factorize(rowptr, colind, vals, shape=shape)"
   ]
  },
  {
   "cell_type": "markdown",
   "metadata": {},
   "source": [
    "With the preconditioenr successfully been built, let's print out some basic information"
   ]
  },
  {
   "cell_type": "code",
   "execution_count": 7,
   "metadata": {},
   "outputs": [
    {
     "name": "stdout",
     "output_type": "stream",
     "text": [
      "M levels are 2, with nnz 141018\n"
     ]
    }
   ],
   "source": [
    "print('M levels are {}, with nnz {}'.format(M.levels, M.nnz))"
   ]
  },
  {
   "cell_type": "markdown",
   "metadata": {},
   "source": [
    "Now, we solve with the built-in flexible GMRES solver, with default configurations, i.e. restart is 30, relative convergence tolerance is 1e-6, and maximum allowed iterations are 500."
   ]
  },
  {
   "cell_type": "code",
   "execution_count": 8,
   "metadata": {},
   "outputs": [],
   "source": [
    "solver = GMRES(M)"
   ]
  },
  {
   "cell_type": "code",
   "execution_count": 9,
   "metadata": {},
   "outputs": [
    {
     "name": "stdout",
     "output_type": "stream",
     "text": [
      "- GMRES -\n",
      "rtol=1e-06\n",
      "restart/cycle=30\n",
      "maxiter=500\n",
      "flex-kernel: tradition\n",
      "init-guess: no\n",
      "\n",
      "Calling traditional GMRES kernel...\n",
      "Enter outer iteration 1...\n",
      "  At iteration 1, relative residual is 5.01853e-06.\n",
      "  At iteration 2, relative residual is 1.17415e-08.\n"
     ]
    }
   ],
   "source": [
    "x, iters = solver.solve(rowptr, colind, vals, b, shape=shape)"
   ]
  },
  {
   "cell_type": "code",
   "execution_count": 10,
   "metadata": {},
   "outputs": [
    {
     "name": "stdout",
     "output_type": "stream",
     "text": [
      "solver done, with 2 iterations and residule is 1.3711755436588413e-07\n"
     ]
    }
   ],
   "source": [
    "print('solver done, with {} iterations and residule is {}'.format(iters, solver.resids[-1]))"
   ]
  }
 ],
 "metadata": {
  "kernelspec": {
   "display_name": "Python 3",
   "language": "python",
   "name": "python3"
  },
  "language_info": {
   "codemirror_mode": {
    "name": "ipython",
    "version": 3
   },
   "file_extension": ".py",
   "mimetype": "text/x-python",
   "name": "python",
   "nbconvert_exporter": "python",
   "pygments_lexer": "ipython3",
   "version": "3.6.9"
  },
  "latex_envs": {
   "LaTeX_envs_menu_present": true,
   "autoclose": false,
   "autocomplete": true,
   "bibliofile": "biblio.bib",
   "cite_by": "apalike",
   "current_citInitial": 1,
   "eqLabelWithNumbers": true,
   "eqNumInitial": 1,
   "hotkeys": {
    "equation": "Ctrl-E",
    "itemize": "Ctrl-I"
   },
   "labels_anchors": false,
   "latex_user_defs": false,
   "report_style_numbering": false,
   "user_envs_cfg": false
  }
 },
 "nbformat": 4,
 "nbformat_minor": 2
}
