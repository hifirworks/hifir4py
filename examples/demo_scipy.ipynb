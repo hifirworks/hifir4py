{
 "cells": [
  {
   "cell_type": "markdown",
   "metadata": {},
   "source": [
    "# Demo for using `hilucsi4py` with SciPy sparse matrices #\n",
    "In this example, we show how to use `hilucs4py` MILU preconditioner coupling with the built-in FGMRES solver.. The example system is a saddle-point formulation of 3D Stokes equation with Taylor-Hood elements."
   ]
  },
  {
   "cell_type": "code",
   "execution_count": 1,
   "metadata": {},
   "outputs": [],
   "source": [
    "from scipy.io import loadmat\n",
    "from hilucsi4py import *\n",
    "import numpy as np"
   ]
  },
  {
   "cell_type": "markdown",
   "metadata": {},
   "source": [
    "The matrix is stored by the HILUCSI native binary format that is leading symmetric block aware. It's worht noting that. The following code shows how to load the matrix."
   ]
  },
  {
   "cell_type": "code",
   "execution_count": 2,
   "metadata": {},
   "outputs": [],
   "source": [
    "# load the MATFILE from scipy.io\n",
    "f = loadmat('demo_inputs/matlab.mat')\n",
    "A = f['A']\n",
    "b = f['b'].reshape(-1)"
   ]
  },
  {
   "cell_type": "markdown",
   "metadata": {},
   "source": [
    "Let's show some basic information of the system, including shape, nnz, and leading block symmetry"
   ]
  },
  {
   "cell_type": "code",
   "execution_count": 3,
   "metadata": {},
   "outputs": [
    {
     "name": "stdout",
     "output_type": "stream",
     "text": [
      "The system shape is (2990, 2990), where the nnz is 44632\n"
     ]
    }
   ],
   "source": [
    "# A is scipy.sparse.csr_matrix\n",
    "print('The system shape is {}, where the nnz is {}'.format(A.shape, A.nnz))"
   ]
  },
  {
   "cell_type": "markdown",
   "metadata": {},
   "source": [
    "Now, let's build the preconditioenr $\\boldsymbol{M}$ with default configurations."
   ]
  },
  {
   "cell_type": "code",
   "execution_count": 4,
   "metadata": {},
   "outputs": [
    {
     "name": "stdout",
     "output_type": "stream",
     "text": [
      "\n",
      "=======================================================================\n",
      "|    Hierarchical ILU Crout with Scalability and Inverse Thresholds   |\n",
      "|                                                                     |\n",
      "| HILUCSI is a package for computing multilevel incomplete LU factor- |\n",
      "| ization with nearly linear time complexity. In addition, HILUCSI    |\n",
      "| can also be very robust.                                            |\n",
      "-----------------------------------------------------------------------\n",
      "\n",
      " Package information:\n",
      "\n",
      "\t\tCopyright (C) The HILUCSI AUTHORS\n",
      "\t\tVersion: 1.0.0\n",
      "\t\tBuilt on: 23:01:07, Jul 12 2019\n",
      "\n",
      "=======================================================================\n",
      "\n",
      "Options (control parameters) are:\n",
      "\n",
      "tau_L                         0.000100\n",
      "tau_U                         0.000100\n",
      "tau_d                         3.000000\n",
      "tau_kappa                     3.000000\n",
      "alpha_L                       10\n",
      "alpha_U                       10\n",
      "rho                           0.500000\n",
      "c_d                           10.000000\n",
      "c_h                           2.000000\n",
      "N                             -1\n",
      "verbose                       info\n",
      "rf_par                        1\n",
      "reorder                       Auto\n",
      "saddle                        1\n",
      "pre_reorder                   Off\n",
      "pre_reorder_lvl1              1\n",
      "matching                      Auto\n",
      "pre_scale                     0\n",
      "symm_pre_lvls                 1\n",
      "\n",
      "perform input matrix validity checking\n",
      "\n",
      "enter level 1 (asymmetric).\n",
      "\n",
      "performing symm preprocessing with leading block size 2990...\n",
      "preprocessing done with leading block size 2826...\n",
      "time: 0.00395665s\n",
      "preparing data variables...\n",
      "start Crout update...\n",
      "finish Crout update...\n",
      "\ttotal deferrals=80\n",
      "\tleading block size in=2826\n",
      "\tleading block size out=2746\n",
      "\tdiff=80\n",
      "\tdiag deferrals=14\n",
      "\tinv-norm deferrals=66\n",
      "\tdrop ut=35562\n",
      "\tspace drop ut=60\n",
      "\tdrop l=35562\n",
      "\tspace drop l=60\n",
      "\tmin |kappa_u|=1\n",
      "\tmax |kappa_u|=2.9844\n",
      "\tmin |kappa_l|=1\n",
      "\tmax |kappa_l|=2.9844\n",
      "\tmax |d|=1\n",
      "time: 0.0169008s\n",
      "computing Schur complement and assembling Prec...\n",
      "applying dropping on L_E and U_F with alpha_{L,U}=10,10...\n",
      "nnz(L_E)=100643/78770, nnz(U_F)=100643/78770...\n",
      "nnz(S_C)=49836, nnz(L/L_B)=128738/28095, nnz(U/U_B)=128738/28095\n",
      "dense_thres{1,2}=265540/1500...\n",
      "converted Schur complement (S) to dense for last level...\n",
      "successfully factorized the dense component...\n",
      "time: 0.02439s\n",
      "\n",
      "finish level 1.\n",
      "\n",
      "input nnz(A)=44632, nnz(precs)=141018, ratio=3.15957\n",
      "\n",
      "multilevel precs building time (overall) is 0.0461221s\n"
     ]
    }
   ],
   "source": [
    "M = HILUCSI()\n",
    "M.factorize(A)"
   ]
  },
  {
   "cell_type": "markdown",
   "metadata": {},
   "source": [
    "With the preconditioenr successfully been built, let's print out some basic information"
   ]
  },
  {
   "cell_type": "code",
   "execution_count": 5,
   "metadata": {},
   "outputs": [
    {
     "name": "stdout",
     "output_type": "stream",
     "text": [
      "M levels are 2, with nnz 141018\n"
     ]
    }
   ],
   "source": [
    "print('M levels are {}, with nnz {}'.format(M.levels, M.nnz))"
   ]
  },
  {
   "cell_type": "markdown",
   "metadata": {},
   "source": [
    "Now, we solve with the built-in flexible GMRES solver, with default configurations, i.e. restart is 30, relative convergence tolerance is 1e-6, and maximum allowed iterations are 500."
   ]
  },
  {
   "cell_type": "code",
   "execution_count": 6,
   "metadata": {},
   "outputs": [],
   "source": [
    "solver = FGMRES(M)"
   ]
  },
  {
   "cell_type": "code",
   "execution_count": 7,
   "metadata": {},
   "outputs": [
    {
     "name": "stdout",
     "output_type": "stream",
     "text": [
      "- FGMRES -\n",
      "rtol=1e-06\n",
      "restart=30\n",
      "maxiter=500\n",
      "kernel: tradition\n",
      "init-guess: no\n",
      "trunc: no\n",
      "\n",
      "Calling traditional GMRES kernel...\n",
      "Enter outer iteration 1...\n",
      "  At iteration 1 (inner:1), relative residual is 5.01853e-06.\n",
      "  At iteration 2 (inner:1), relative residual is 1.17415e-08.\n"
     ]
    }
   ],
   "source": [
    "x, iters = solver.solve(A, b)"
   ]
  },
  {
   "cell_type": "code",
   "execution_count": 8,
   "metadata": {},
   "outputs": [
    {
     "name": "stdout",
     "output_type": "stream",
     "text": [
      "solver done, with 2 iterations and residule is 1.174147139978338e-08\n"
     ]
    }
   ],
   "source": [
    "print('solver done, with {} iterations and residule is {}'.format(iters, solver.resids[-1]))"
   ]
  }
 ],
 "metadata": {
  "kernelspec": {
   "display_name": "Python 3",
   "language": "python",
   "name": "python3"
  },
  "language_info": {
   "codemirror_mode": {
    "name": "ipython",
    "version": 3
   },
   "file_extension": ".py",
   "mimetype": "text/x-python",
   "name": "python",
   "nbconvert_exporter": "python",
   "pygments_lexer": "ipython3",
   "version": "3.6.8"
  },
  "latex_envs": {
   "LaTeX_envs_menu_present": true,
   "autoclose": false,
   "autocomplete": true,
   "bibliofile": "biblio.bib",
   "cite_by": "apalike",
   "current_citInitial": 1,
   "eqLabelWithNumbers": true,
   "eqNumInitial": 1,
   "hotkeys": {
    "equation": "Ctrl-E",
    "itemize": "Ctrl-I"
   },
   "labels_anchors": false,
   "latex_user_defs": false,
   "report_style_numbering": false,
   "user_envs_cfg": false
  }
 },
 "nbformat": 4,
 "nbformat_minor": 2
}
